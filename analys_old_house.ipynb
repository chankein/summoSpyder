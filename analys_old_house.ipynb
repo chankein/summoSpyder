{
 "cells": [
  {
   "cell_type": "code",
   "execution_count": 4,
   "metadata": {},
   "outputs": [
    {
     "name": "stdout",
     "output_type": "stream",
     "text": [
      "/Users/chankein/Documents/summoSpyder/config.ini\n"
     ]
    }
   ],
   "source": [
    "#!/usr/bin/python\n",
    "# -*- coding: UTF-8 -*-\n",
    "import pandas as pd\n",
    "import numpy as np\n",
    "from sklearn.preprocessing import OrdinalEncoder\n",
    "from sklearn import preprocessing\n",
    "import pandas_profiling as pdp\n",
    "from utils import deal_price, deal_build_years, readConf, deal_size\n",
    "\n",
    "conf, hostname = readConf()\n",
    "s3_home = conf.get(hostname, \"s3_home\")\n",
    "csv_path = s3_home + 'old_house.csv'\n",
    "df = pd.read_csv(csv_path, dtype={'マンション名': 'str', '販売価格': 'str', '販売価格(万円)': 'float', '住所': 'str', '立地': 'str', '土地面積': 'str', '建物面積': 'str', '間取り': 'str', '築年月': 'str',\n",
    "                                  '築年数': 'int', '詳細URL': 'str', '電話': 'str', '区域': 'str', '日付': 'str'}, encoding='utf-16', parse_dates=['日付'])\n",
    "df['建物面積(m2)'] = df['建物面積'].apply(lambda x: deal_size(x))\n",
    "df['土地面積(m2)'] = df['土地面積'].apply(lambda x: deal_size(x))"
   ]
  },
  {
   "cell_type": "code",
   "execution_count": 20,
   "metadata": {},
   "outputs": [
    {
     "name": "stdout",
     "output_type": "stream",
     "text": [
      "              鉄道\n",
      "0      東京メトロ半蔵門線\n",
      "1        ＪＲ総武線快速\n",
      "2          ＪＲ山手線\n",
      "3          ＪＲ山手線\n",
      "4          ＪＲ山手線\n",
      "...          ...\n",
      "32653     ブルーライン\n",
      "32654     ブルーライン\n",
      "32655      ＪＲ横浜線\n",
      "32656      ＪＲ横浜線\n",
      "32657     ブルーライン\n",
      "\n",
      "[32658 rows x 1 columns]\n",
      "           駅     距離\n",
      "0        神保町   徒歩1分\n",
      "1        馬喰町   徒歩2分\n",
      "2        秋葉原   徒歩6分\n",
      "3        秋葉原   徒歩6分\n",
      "4        秋葉原   徒歩6分\n",
      "...      ...    ...\n",
      "32653     中川   徒歩6分\n",
      "32654  センター南  徒歩19分\n",
      "32655     鴨居  徒歩20分\n",
      "32656     鴨居  徒歩19分\n",
      "32657  センター北  徒歩14分\n",
      "\n",
      "[32658 rows x 2 columns]\n"
     ]
    }
   ],
   "source": [
    "df_split1=df['立地'].str.split('「', expand=True)\n",
    "df_split2=df_split1[1].str.split('」', expand=True)\n",
    "df_split1=df_split1.loc[:,[0]]\n",
    "df_split1.columns=['鉄道']\n",
    "df_split2.columns=['駅','距離']\n",
    "print(df_split1)\n",
    "print(df_split2)"
   ]
  },
  {
   "cell_type": "code",
   "execution_count": 19,
   "metadata": {},
   "outputs": [
    {
     "name": "stdout",
     "output_type": "stream",
     "text": [
      "                                       マンション名      販売価格  販売価格(万円)  \\\n",
      "0      【神保町駅１分】１LDK＋EV　建物５２．９４㎡　日当り良好■整形地　南東…    6480万円    6480.0   \n",
      "1                           東神田１（馬喰町駅） 9380万円    9380万円    9380.0   \n",
      "2      ■山手線・日比谷線「秋葉原」駅徒歩6分、7沿線7駅以上利用可■北西角地■平…    9999万円    9999.0   \n",
      "3                           東神田３（秋葉原駅） 9999万円    9999万円    9999.0   \n",
      "4            築浅　清洲橋通り沿いの店舗事務所利便性の高い、7路線7駅利用可能    9999万円    9999.0   \n",
      "...                                       ...       ...       ...   \n",
      "32653                       中川２（中川駅） 1億6500万円  1億6500万円   16500.0   \n",
      "32654                     平台（センター南駅） 1億7600万円  1億7600万円   17600.0   \n",
      "32655                          池辺町（鴨居駅） 990万円     990万円     990.0   \n",
      "32656                         池辺町（鴨居駅） 3080万円    3080万円    3080.0   \n",
      "32657                      大棚町（センター北駅） 3680万円    3680万円    3680.0   \n",
      "\n",
      "                  住所                  立地                   土地面積  \\\n",
      "0      東京都千代田区神田神保町１  東京メトロ半蔵門線「神保町」徒歩1分    36.62m2（11.07坪）（登記）   \n",
      "1        東京都千代田区東神田１    ＪＲ総武線快速「馬喰町」徒歩2分            66.11m2（登記）   \n",
      "2        東京都千代田区東神田３      ＪＲ山手線「秋葉原」徒歩6分    45.46m2（13.75坪）（登記）   \n",
      "3        東京都千代田区東神田３      ＪＲ山手線「秋葉原」徒歩6分    45.46m2（13.75坪）（登記）   \n",
      "4        東京都千代田区東神田３      ＪＲ山手線「秋葉原」徒歩6分            45.46m2（登記）   \n",
      "...              ...                 ...                    ...   \n",
      "32653  神奈川県横浜市都筑区中川２      ブルーライン「中川」徒歩6分  452.01m2（136.73坪）（登記）   \n",
      "32654   神奈川県横浜市都筑区平台  ブルーライン「センター南」徒歩19分   220.95m2（66.83坪）（登記）   \n",
      "32655  神奈川県横浜市都筑区池辺町      ＪＲ横浜線「鴨居」徒歩20分            51.57m2（登記）   \n",
      "32656  神奈川県横浜市都筑区池辺町      ＪＲ横浜線「鴨居」徒歩19分            79.57m2（登記）   \n",
      "32657  神奈川県横浜市都筑区大棚町  ブルーライン「センター北」徒歩14分           286.17m2（登記）   \n",
      "\n",
      "                        建物面積         間取り       築年月  築年数  \\\n",
      "0        52.94m2（16.01坪）（登記）        1LDK  2003年12月   16   \n",
      "1                 99.8m2（登記）        2LDK   1992年8月   27   \n",
      "2            86.55m2（26.18坪）       ワンルーム   2014年8月    5   \n",
      "3        86.55m2（26.18坪）（登記）        2LDK   2014年8月    5   \n",
      "4                86.55m2（登記）        2LDK   2014年8月    5   \n",
      "...                      ...         ...       ...  ...   \n",
      "32653  389.78m2（117.90坪）（登記）  6LDK+S（納戸）  2005年12月   14   \n",
      "32654       172.24m2（52.10坪）  3LDK+S（納戸）   2009年1月   11   \n",
      "32655            56.72m2（登記）         3DK   1979年7月   41   \n",
      "32656              102m2（登記）        4LDK   2008年5月   12   \n",
      "32657           100.28m2（登記）        5LDK  1999年12月   20   \n",
      "\n",
      "                                                   詳細URL             電話  \\\n",
      "0      https://suumo.jp/chukoikkodate/tokyo/sc_chiyod...  0800-830-6372   \n",
      "1      https://suumo.jp/chukoikkodate/tokyo/sc_chiyod...  0800-603-0560   \n",
      "2      https://suumo.jp/chukoikkodate/tokyo/sc_chiyod...  0800-603-4708   \n",
      "3      https://suumo.jp/chukoikkodate/tokyo/sc_chiyod...            NaN   \n",
      "4      https://suumo.jp/chukoikkodate/tokyo/sc_chiyod...            NaN   \n",
      "...                                                  ...            ...   \n",
      "32653  https://suumo.jp/chukoikkodate/kanagawa/sc_yok...            NaN   \n",
      "32654  https://suumo.jp/chukoikkodate/kanagawa/sc_yok...            NaN   \n",
      "32655  https://suumo.jp/chukoikkodate/kanagawa/sc_yok...            NaN   \n",
      "32656  https://suumo.jp/chukoikkodate/kanagawa/sc_yok...            NaN   \n",
      "32657  https://suumo.jp/chukoikkodate/kanagawa/sc_yok...  0800-603-0489   \n",
      "\n",
      "           区域         日付  建物面積(m2)  土地面積(m2)         鉄道      駅     距離  \n",
      "0        千代田区 2020-07-05     52.94     36.62  東京メトロ半蔵門線    神保町   徒歩1分  \n",
      "1        千代田区 2020-07-05     99.80     66.11    ＪＲ総武線快速    馬喰町   徒歩2分  \n",
      "2        千代田区 2020-07-05     86.55     45.46      ＪＲ山手線    秋葉原   徒歩6分  \n",
      "3        千代田区 2020-07-05     86.55     45.46      ＪＲ山手線    秋葉原   徒歩6分  \n",
      "4        千代田区 2020-07-05     86.55     45.46      ＪＲ山手線    秋葉原   徒歩6分  \n",
      "...       ...        ...       ...       ...        ...    ...    ...  \n",
      "32653  横浜市都筑区 2020-07-26    389.78    452.01     ブルーライン     中川   徒歩6分  \n",
      "32654  横浜市都筑区 2020-07-26    172.24    220.95     ブルーライン  センター南  徒歩19分  \n",
      "32655  横浜市都筑区 2020-07-26     56.72     51.57      ＪＲ横浜線     鴨居  徒歩20分  \n",
      "32656  横浜市都筑区 2020-07-26    102.00     79.57      ＪＲ横浜線     鴨居  徒歩19分  \n",
      "32657  横浜市都筑区 2020-07-26    100.28    286.17     ブルーライン  センター北  徒歩14分  \n",
      "\n",
      "[32658 rows x 19 columns]\n"
     ]
    }
   ],
   "source": [
    "df_location=pd.concat([df,df_split1,df_split2], axis=1)\n",
    "print(df_location)"
   ]
  },
  {
   "cell_type": "code",
   "execution_count": 32,
   "metadata": {},
   "outputs": [],
   "source": [
    "import re\n",
    "def get_num(num_string):\n",
    "    return int(re.findall(r\"\\d+\",num_string)[0])"
   ]
  },
  {
   "cell_type": "code",
   "execution_count": 33,
   "metadata": {},
   "outputs": [],
   "source": [
    "df_location['距離(分)']=df_location['距離'].apply(lambda x: get_num(x))"
   ]
  },
  {
   "cell_type": "code",
   "execution_count": 34,
   "metadata": {},
   "outputs": [
    {
     "name": "stdout",
     "output_type": "stream",
     "text": [
      "0      1\n",
      "1      2\n",
      "2      6\n",
      "3      6\n",
      "4      6\n",
      "5      6\n",
      "6      6\n",
      "7      6\n",
      "8      6\n",
      "9      3\n",
      "10     3\n",
      "11     4\n",
      "12     7\n",
      "13     3\n",
      "14     2\n",
      "15     3\n",
      "16     6\n",
      "17     2\n",
      "18     3\n",
      "19     1\n",
      "20     4\n",
      "21     3\n",
      "22     4\n",
      "23     3\n",
      "24     3\n",
      "25     4\n",
      "26     2\n",
      "27     2\n",
      "28     3\n",
      "29     3\n",
      "30     3\n",
      "31     3\n",
      "32     2\n",
      "33     3\n",
      "34    11\n",
      "35     7\n",
      "36     8\n",
      "37     6\n",
      "38     6\n",
      "39     6\n",
      "40     9\n",
      "41     9\n",
      "42     2\n",
      "43     7\n",
      "44     8\n",
      "45     6\n",
      "46     8\n",
      "47     4\n",
      "48     6\n",
      "49    11\n",
      "Name: 距離(分), dtype: int64\n",
      "0      徒歩1分\n",
      "1      徒歩2分\n",
      "2      徒歩6分\n",
      "3      徒歩6分\n",
      "4      徒歩6分\n",
      "5      徒歩6分\n",
      "6      徒歩6分\n",
      "7      徒歩6分\n",
      "8      徒歩6分\n",
      "9      徒歩3分\n",
      "10     徒歩3分\n",
      "11     徒歩4分\n",
      "12     徒歩7分\n",
      "13     徒歩3分\n",
      "14     徒歩2分\n",
      "15     徒歩3分\n",
      "16     徒歩6分\n",
      "17     徒歩2分\n",
      "18     徒歩3分\n",
      "19     徒歩1分\n",
      "20     徒歩4分\n",
      "21     徒歩3分\n",
      "22     徒歩4分\n",
      "23     徒歩3分\n",
      "24     徒歩3分\n",
      "25     徒歩4分\n",
      "26     徒歩2分\n",
      "27     徒歩2分\n",
      "28     徒歩3分\n",
      "29     徒歩3分\n",
      "30     徒歩3分\n",
      "31     徒歩3分\n",
      "32     徒歩2分\n",
      "33     徒歩3分\n",
      "34    徒歩11分\n",
      "35     徒歩7分\n",
      "36     徒歩8分\n",
      "37     徒歩6分\n",
      "38     徒歩6分\n",
      "39     徒歩6分\n",
      "40     徒歩9分\n",
      "41     徒歩9分\n",
      "42     徒歩2分\n",
      "43     徒歩7分\n",
      "44     徒歩8分\n",
      "45     徒歩6分\n",
      "46     徒歩8分\n",
      "47     徒歩4分\n",
      "48     徒歩6分\n",
      "49    徒歩11分\n",
      "Name: 距離, dtype: object\n"
     ]
    }
   ],
   "source": [
    "print(df_location['距離(分)'][:50])\n",
    "print(df_location['距離'][:50])"
   ]
  },
  {
   "cell_type": "code",
   "execution_count": 28,
   "metadata": {},
   "outputs": [
    {
     "name": "stdout",
     "output_type": "stream",
     "text": [
      "747      2600万円※権利金含む200万円\n",
      "2801            9998万8000円\n",
      "3178            7322万5000円\n",
      "4693     2380万円※権利金含む400万円\n",
      "4985     1980万円※権利金含む200万円\n",
      "8982     2600万円※権利金含む200万円\n",
      "11006           9998万8000円\n",
      "11392           7322万5000円\n",
      "12921    2380万円※権利金含む400万円\n",
      "13202    1980万円※権利金含む200万円\n",
      "17203    2600万円※権利金含む200万円\n",
      "19263           9998万8000円\n",
      "19644           7322万5000円\n",
      "21135    2380万円※権利金含む400万円\n",
      "21414    1980万円※権利金含む200万円\n",
      "Name: 販売価格, dtype: object\n",
      "747      None\n",
      "2801     None\n",
      "3178     None\n",
      "4693     None\n",
      "4985     None\n",
      "8982     None\n",
      "11006    None\n",
      "11392    None\n",
      "12921    None\n",
      "13202    None\n",
      "17203    None\n",
      "19263    None\n",
      "19644    None\n",
      "21135    None\n",
      "21414    None\n",
      "Name: 販売価格(万円), dtype: object\n"
     ]
    }
   ],
   "source": []
  },
  {
   "cell_type": "code",
   "execution_count": 35,
   "metadata": {},
   "outputs": [],
   "source": []
  },
  {
   "cell_type": "code",
   "execution_count": 36,
   "metadata": {},
   "outputs": [],
   "source": []
  },
  {
   "cell_type": "code",
   "execution_count": 37,
   "metadata": {},
   "outputs": [
    {
     "name": "stdout",
     "output_type": "stream",
     "text": [
      "7322.5\n"
     ]
    }
   ],
   "source": []
  },
  {
   "cell_type": "code",
   "execution_count": null,
   "metadata": {},
   "outputs": [],
   "source": []
  }
 ],
 "metadata": {
  "kernelspec": {
   "display_name": "Python 3",
   "language": "python",
   "name": "python3"
  },
  "language_info": {
   "codemirror_mode": {
    "name": "ipython",
    "version": 3
   },
   "file_extension": ".py",
   "mimetype": "text/x-python",
   "name": "python",
   "nbconvert_exporter": "python",
   "pygments_lexer": "ipython3",
   "version": "3.7.4"
  }
 },
 "nbformat": 4,
 "nbformat_minor": 2
}
